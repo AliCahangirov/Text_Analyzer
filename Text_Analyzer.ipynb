{
 "cells": [
  {
   "cell_type": "code",
   "execution_count": 1,
   "id": "2fb88eea",
   "metadata": {},
   "outputs": [],
   "source": [
    "import os\n",
    "import re\n"
   ]
  },
  {
   "cell_type": "code",
   "execution_count": 2,
   "id": "a73ce080",
   "metadata": {},
   "outputs": [],
   "source": [
    "def get_file_path():\n",
    "        file_path = input(\"Please enter the path to the text file you want to analyze: \")\n",
    "        \n",
    "        if file_path in os.listdir():\n",
    "            return file_path\n",
    "        else:\n",
    "            print(\"Invalid file path. Please try again.\")\n"
   ]
  },
  {
   "cell_type": "code",
   "execution_count": 3,
   "id": "7a5881f3",
   "metadata": {},
   "outputs": [],
   "source": [
    "def clean_text(text):\n",
    "    # Remove punctuation marks and special characters\n",
    "    cleaned_text = re.sub(r'[^\\w\\s]', '', text)\n",
    "    \n",
    "    # Remove line breaks and extra whitespace\n",
    "    cleaned_text = re.sub(r'\\s+', ' ', cleaned_text)\n",
    "    \n",
    "    # Convert text to lowercase\n",
    "    cleaned_text = cleaned_text.lower()\n",
    "    \n",
    "    return cleaned_text\n",
    "\n",
    "def parse_text(file_path):\n",
    "    with open(file_path, 'r') as file:\n",
    "        text = file.read()\n",
    "    \n",
    "    cleaned_text = clean_text(text)\n",
    "    return cleaned_text"
   ]
  },
  {
   "cell_type": "code",
   "execution_count": 4,
   "id": "f6e2b567",
   "metadata": {},
   "outputs": [],
   "source": [
    "def count_words(text):\n",
    "    re_comp = re.compile(r\"[A-Za-z]+\")\n",
    "    \n",
    "    return re_comp.findall(text)\n",
    "    print(\"Word count:\", word_count)\n"
   ]
  },
  {
   "cell_type": "code",
   "execution_count": 5,
   "id": "4705a92c",
   "metadata": {},
   "outputs": [],
   "source": [
    "def count_characters(cleaned_text):\n",
    "    character_count = len(cleaned_text)\n",
    "    return character_count\n"
   ]
  },
  {
   "cell_type": "code",
   "execution_count": 6,
   "id": "c320f683",
   "metadata": {},
   "outputs": [],
   "source": [
    "def calculate_word_frequency(cleaned_text):\n",
    "    words = cleaned_text.split()\n",
    "    word_frequency = {}\n",
    "\n",
    "    for word in words:\n",
    "        word_frequency[word] = word_frequency.get(word, 0) + 1\n",
    "\n",
    "    return word_frequency\n",
    "\n",
    "def generate_word_frequency_report(word_frequency):\n",
    "    report = \"Word Frequency Report:\\n\"\n",
    "    for word, count in word_frequency.items():\n",
    "        report += f\"{word}: {count}\\n\"\n",
    "    \n",
    "    return report"
   ]
  },
  {
   "cell_type": "code",
   "execution_count": null,
   "id": "fe0221af",
   "metadata": {},
   "outputs": [],
   "source": []
  }
 ],
 "metadata": {
  "kernelspec": {
   "display_name": "Python 3 (ipykernel)",
   "language": "python",
   "name": "python3"
  },
  "language_info": {
   "codemirror_mode": {
    "name": "ipython",
    "version": 3
   },
   "file_extension": ".py",
   "mimetype": "text/x-python",
   "name": "python",
   "nbconvert_exporter": "python",
   "pygments_lexer": "ipython3",
   "version": "3.10.9"
  }
 },
 "nbformat": 4,
 "nbformat_minor": 5
}
